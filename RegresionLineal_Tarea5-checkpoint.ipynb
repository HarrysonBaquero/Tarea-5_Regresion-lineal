{
 "cells": [
  {
   "cell_type": "markdown",
   "id": "c1f4ac10-2591-46e8-b705-0734a2bd7c83",
   "metadata": {},
   "source": [
    "## Harryson Steven Baquero Castro"
   ]
  },
  {
   "cell_type": "markdown",
   "id": "d3957f1b-2791-4b11-b519-97733a1a6b28",
   "metadata": {},
   "source": [
    "# Regresión Lineal"
   ]
  },
  {
   "cell_type": "markdown",
   "id": "ebd92589-139d-44df-93cc-fe711e02ccef",
   "metadata": {},
   "source": [
    "### Tarea 5 Proyecto Análisis de Datos"
   ]
  },
  {
   "cell_type": "markdown",
   "id": "2353f125-ed63-4451-832f-41b0761590ec",
   "metadata": {},
   "source": [
    "### Titanic-Dataset"
   ]
  },
  {
   "cell_type": "markdown",
   "id": "27bf3af3-c558-48c2-8d51-05422d82c7c0",
   "metadata": {},
   "source": [
    "### 1. Realizar un análisis exploratorio de los datos para identificar relaciones entre variables, valores atípicos, tendencias, etc."
   ]
  },
  {
   "cell_type": "markdown",
   "id": "3da22188-5903-4ef7-b49f-452a35deefc6",
   "metadata": {},
   "source": [
    "Instalamos bibliotecas, cargamos el dataset, renombramos y filtramos las columnas del dataset"
   ]
  },
  {
   "cell_type": "code",
   "execution_count": 7,
   "id": "49b7c647-f39b-40b9-802a-cba8cabd5b7c",
   "metadata": {},
   "outputs": [
    {
     "name": "stdout",
     "output_type": "stream",
     "text": [
      "Requirement already satisfied: numpy in c:\\users\\harry\\anaconda3\\lib\\site-packages (1.26.4)Note: you may need to restart the kernel to use updated packages.\n",
      "\n",
      "Requirement already satisfied: pandas in c:\\users\\harry\\anaconda3\\lib\\site-packages (2.2.2)\n",
      "Requirement already satisfied: scikit-learn in c:\\users\\harry\\anaconda3\\lib\\site-packages (1.4.2)\n",
      "Requirement already satisfied: matplotlib in c:\\users\\harry\\anaconda3\\lib\\site-packages (3.8.4)\n",
      "Requirement already satisfied: python-dateutil>=2.8.2 in c:\\users\\harry\\anaconda3\\lib\\site-packages (from pandas) (2.9.0.post0)\n",
      "Requirement already satisfied: pytz>=2020.1 in c:\\users\\harry\\anaconda3\\lib\\site-packages (from pandas) (2024.1)\n",
      "Requirement already satisfied: tzdata>=2022.7 in c:\\users\\harry\\anaconda3\\lib\\site-packages (from pandas) (2023.3)\n",
      "Requirement already satisfied: scipy>=1.6.0 in c:\\users\\harry\\anaconda3\\lib\\site-packages (from scikit-learn) (1.13.1)\n",
      "Requirement already satisfied: joblib>=1.2.0 in c:\\users\\harry\\anaconda3\\lib\\site-packages (from scikit-learn) (1.4.2)\n",
      "Requirement already satisfied: threadpoolctl>=2.0.0 in c:\\users\\harry\\anaconda3\\lib\\site-packages (from scikit-learn) (2.2.0)\n",
      "Requirement already satisfied: contourpy>=1.0.1 in c:\\users\\harry\\anaconda3\\lib\\site-packages (from matplotlib) (1.2.0)\n",
      "Requirement already satisfied: cycler>=0.10 in c:\\users\\harry\\anaconda3\\lib\\site-packages (from matplotlib) (0.11.0)\n",
      "Requirement already satisfied: fonttools>=4.22.0 in c:\\users\\harry\\anaconda3\\lib\\site-packages (from matplotlib) (4.51.0)\n",
      "Requirement already satisfied: kiwisolver>=1.3.1 in c:\\users\\harry\\anaconda3\\lib\\site-packages (from matplotlib) (1.4.4)\n",
      "Requirement already satisfied: packaging>=20.0 in c:\\users\\harry\\anaconda3\\lib\\site-packages (from matplotlib) (23.2)\n",
      "Requirement already satisfied: pillow>=8 in c:\\users\\harry\\anaconda3\\lib\\site-packages (from matplotlib) (10.3.0)\n",
      "Requirement already satisfied: pyparsing>=2.3.1 in c:\\users\\harry\\anaconda3\\lib\\site-packages (from matplotlib) (3.0.9)\n",
      "Requirement already satisfied: six>=1.5 in c:\\users\\harry\\anaconda3\\lib\\site-packages (from python-dateutil>=2.8.2->pandas) (1.16.0)\n"
     ]
    }
   ],
   "source": [
    "pip install numpy pandas scikit-learn matplotlib"
   ]
  },
  {
   "cell_type": "code",
   "execution_count": 8,
   "id": "be88b66d-88a0-40ce-b67e-06f8bfbbf7ca",
   "metadata": {},
   "outputs": [],
   "source": [
    "# Importar bibliotecas\n",
    "import numpy as np\n",
    "import pandas as pd\n",
    "from sklearn.linear_model import LinearRegression\n",
    "import matplotlib.pyplot as plt\n",
    "import seaborn as sns"
   ]
  },
  {
   "cell_type": "code",
   "execution_count": 9,
   "id": "9c6d2835-3e10-4058-9c7b-53ef26fa8f59",
   "metadata": {},
   "outputs": [],
   "source": [
    "# Cargar el dataset\n",
    "dataset = pd.read_csv('./Titanic-Dataset.csv')"
   ]
  },
  {
   "cell_type": "code",
   "execution_count": 10,
   "id": "27abd7bd-90ca-456f-bdc2-03d623b00118",
   "metadata": {},
   "outputs": [
    {
     "data": {
      "text/html": [
       "<div>\n",
       "<style scoped>\n",
       "    .dataframe tbody tr th:only-of-type {\n",
       "        vertical-align: middle;\n",
       "    }\n",
       "\n",
       "    .dataframe tbody tr th {\n",
       "        vertical-align: top;\n",
       "    }\n",
       "\n",
       "    .dataframe thead th {\n",
       "        text-align: right;\n",
       "    }\n",
       "</style>\n",
       "<table border=\"1\" class=\"dataframe\">\n",
       "  <thead>\n",
       "    <tr style=\"text-align: right;\">\n",
       "      <th></th>\n",
       "      <th>PassengerId</th>\n",
       "      <th>Survived</th>\n",
       "      <th>Pclass</th>\n",
       "      <th>Name</th>\n",
       "      <th>Sex</th>\n",
       "      <th>Age</th>\n",
       "      <th>SibSp</th>\n",
       "      <th>Parch</th>\n",
       "      <th>Ticket</th>\n",
       "      <th>Fare</th>\n",
       "      <th>Cabin</th>\n",
       "      <th>Embarked</th>\n",
       "    </tr>\n",
       "  </thead>\n",
       "  <tbody>\n",
       "    <tr>\n",
       "      <th>0</th>\n",
       "      <td>1</td>\n",
       "      <td>0</td>\n",
       "      <td>3</td>\n",
       "      <td>Braund, Mr. Owen Harris</td>\n",
       "      <td>male</td>\n",
       "      <td>22.0</td>\n",
       "      <td>1</td>\n",
       "      <td>0</td>\n",
       "      <td>A/5 21171</td>\n",
       "      <td>7.2500</td>\n",
       "      <td>NaN</td>\n",
       "      <td>S</td>\n",
       "    </tr>\n",
       "    <tr>\n",
       "      <th>1</th>\n",
       "      <td>2</td>\n",
       "      <td>1</td>\n",
       "      <td>1</td>\n",
       "      <td>Cumings, Mrs. John Bradley (Florence Briggs Th...</td>\n",
       "      <td>female</td>\n",
       "      <td>38.0</td>\n",
       "      <td>1</td>\n",
       "      <td>0</td>\n",
       "      <td>PC 17599</td>\n",
       "      <td>71.2833</td>\n",
       "      <td>C85</td>\n",
       "      <td>C</td>\n",
       "    </tr>\n",
       "    <tr>\n",
       "      <th>2</th>\n",
       "      <td>3</td>\n",
       "      <td>1</td>\n",
       "      <td>3</td>\n",
       "      <td>Heikkinen, Miss. Laina</td>\n",
       "      <td>female</td>\n",
       "      <td>26.0</td>\n",
       "      <td>0</td>\n",
       "      <td>0</td>\n",
       "      <td>STON/O2. 3101282</td>\n",
       "      <td>7.9250</td>\n",
       "      <td>NaN</td>\n",
       "      <td>S</td>\n",
       "    </tr>\n",
       "    <tr>\n",
       "      <th>3</th>\n",
       "      <td>4</td>\n",
       "      <td>1</td>\n",
       "      <td>1</td>\n",
       "      <td>Futrelle, Mrs. Jacques Heath (Lily May Peel)</td>\n",
       "      <td>female</td>\n",
       "      <td>35.0</td>\n",
       "      <td>1</td>\n",
       "      <td>0</td>\n",
       "      <td>113803</td>\n",
       "      <td>53.1000</td>\n",
       "      <td>C123</td>\n",
       "      <td>S</td>\n",
       "    </tr>\n",
       "    <tr>\n",
       "      <th>4</th>\n",
       "      <td>5</td>\n",
       "      <td>0</td>\n",
       "      <td>3</td>\n",
       "      <td>Allen, Mr. William Henry</td>\n",
       "      <td>male</td>\n",
       "      <td>35.0</td>\n",
       "      <td>0</td>\n",
       "      <td>0</td>\n",
       "      <td>373450</td>\n",
       "      <td>8.0500</td>\n",
       "      <td>NaN</td>\n",
       "      <td>S</td>\n",
       "    </tr>\n",
       "  </tbody>\n",
       "</table>\n",
       "</div>"
      ],
      "text/plain": [
       "   PassengerId  Survived  Pclass  \\\n",
       "0            1         0       3   \n",
       "1            2         1       1   \n",
       "2            3         1       3   \n",
       "3            4         1       1   \n",
       "4            5         0       3   \n",
       "\n",
       "                                                Name     Sex   Age  SibSp  \\\n",
       "0                            Braund, Mr. Owen Harris    male  22.0      1   \n",
       "1  Cumings, Mrs. John Bradley (Florence Briggs Th...  female  38.0      1   \n",
       "2                             Heikkinen, Miss. Laina  female  26.0      0   \n",
       "3       Futrelle, Mrs. Jacques Heath (Lily May Peel)  female  35.0      1   \n",
       "4                           Allen, Mr. William Henry    male  35.0      0   \n",
       "\n",
       "   Parch            Ticket     Fare Cabin Embarked  \n",
       "0      0         A/5 21171   7.2500   NaN        S  \n",
       "1      0          PC 17599  71.2833   C85        C  \n",
       "2      0  STON/O2. 3101282   7.9250   NaN        S  \n",
       "3      0            113803  53.1000  C123        S  \n",
       "4      0            373450   8.0500   NaN        S  "
      ]
     },
     "execution_count": 10,
     "metadata": {},
     "output_type": "execute_result"
    }
   ],
   "source": [
    "# Mostrar las primeras filas del dataset para examinar su estructura\n",
    "dataset_head = dataset.head()\n",
    "dataset_head"
   ]
  },
  {
   "cell_type": "code",
   "execution_count": 11,
   "id": "d48ffd7e-bfeb-4380-aaa3-82d1c7a68e3b",
   "metadata": {},
   "outputs": [],
   "source": [
    "# Renombrar columnas para estandarizar nombres comunes\n",
    "dataset.columns = ['IdPasajero', 'sobrevivio', 'claseDelBillete', 'nombre', 'genero', 'edad', 'numHermanos', 'numPadres/Hijos', 'boleto', 'tarifa', 'cabina', 'embarcamiento']"
   ]
  },
  {
   "cell_type": "code",
   "execution_count": 12,
   "id": "1d2b57cc-6788-4b8e-bb85-4cc966f0a3a3",
   "metadata": {},
   "outputs": [
    {
     "data": {
      "text/html": [
       "<div>\n",
       "<style scoped>\n",
       "    .dataframe tbody tr th:only-of-type {\n",
       "        vertical-align: middle;\n",
       "    }\n",
       "\n",
       "    .dataframe tbody tr th {\n",
       "        vertical-align: top;\n",
       "    }\n",
       "\n",
       "    .dataframe thead th {\n",
       "        text-align: right;\n",
       "    }\n",
       "</style>\n",
       "<table border=\"1\" class=\"dataframe\">\n",
       "  <thead>\n",
       "    <tr style=\"text-align: right;\">\n",
       "      <th></th>\n",
       "      <th>IdPasajero</th>\n",
       "      <th>sobrevivio</th>\n",
       "      <th>claseDelBillete</th>\n",
       "      <th>edad</th>\n",
       "      <th>numHermanos</th>\n",
       "      <th>numPadres/Hijos</th>\n",
       "      <th>tarifa</th>\n",
       "    </tr>\n",
       "  </thead>\n",
       "  <tbody>\n",
       "    <tr>\n",
       "      <th>count</th>\n",
       "      <td>891.000000</td>\n",
       "      <td>891.000000</td>\n",
       "      <td>891.000000</td>\n",
       "      <td>714.000000</td>\n",
       "      <td>891.000000</td>\n",
       "      <td>891.000000</td>\n",
       "      <td>891.000000</td>\n",
       "    </tr>\n",
       "    <tr>\n",
       "      <th>mean</th>\n",
       "      <td>446.000000</td>\n",
       "      <td>0.383838</td>\n",
       "      <td>2.308642</td>\n",
       "      <td>29.699118</td>\n",
       "      <td>0.523008</td>\n",
       "      <td>0.381594</td>\n",
       "      <td>32.204208</td>\n",
       "    </tr>\n",
       "    <tr>\n",
       "      <th>std</th>\n",
       "      <td>257.353842</td>\n",
       "      <td>0.486592</td>\n",
       "      <td>0.836071</td>\n",
       "      <td>14.526497</td>\n",
       "      <td>1.102743</td>\n",
       "      <td>0.806057</td>\n",
       "      <td>49.693429</td>\n",
       "    </tr>\n",
       "    <tr>\n",
       "      <th>min</th>\n",
       "      <td>1.000000</td>\n",
       "      <td>0.000000</td>\n",
       "      <td>1.000000</td>\n",
       "      <td>0.420000</td>\n",
       "      <td>0.000000</td>\n",
       "      <td>0.000000</td>\n",
       "      <td>0.000000</td>\n",
       "    </tr>\n",
       "    <tr>\n",
       "      <th>25%</th>\n",
       "      <td>223.500000</td>\n",
       "      <td>0.000000</td>\n",
       "      <td>2.000000</td>\n",
       "      <td>20.125000</td>\n",
       "      <td>0.000000</td>\n",
       "      <td>0.000000</td>\n",
       "      <td>7.910400</td>\n",
       "    </tr>\n",
       "    <tr>\n",
       "      <th>50%</th>\n",
       "      <td>446.000000</td>\n",
       "      <td>0.000000</td>\n",
       "      <td>3.000000</td>\n",
       "      <td>28.000000</td>\n",
       "      <td>0.000000</td>\n",
       "      <td>0.000000</td>\n",
       "      <td>14.454200</td>\n",
       "    </tr>\n",
       "    <tr>\n",
       "      <th>75%</th>\n",
       "      <td>668.500000</td>\n",
       "      <td>1.000000</td>\n",
       "      <td>3.000000</td>\n",
       "      <td>38.000000</td>\n",
       "      <td>1.000000</td>\n",
       "      <td>0.000000</td>\n",
       "      <td>31.000000</td>\n",
       "    </tr>\n",
       "    <tr>\n",
       "      <th>max</th>\n",
       "      <td>891.000000</td>\n",
       "      <td>1.000000</td>\n",
       "      <td>3.000000</td>\n",
       "      <td>80.000000</td>\n",
       "      <td>8.000000</td>\n",
       "      <td>6.000000</td>\n",
       "      <td>512.329200</td>\n",
       "    </tr>\n",
       "  </tbody>\n",
       "</table>\n",
       "</div>"
      ],
      "text/plain": [
       "       IdPasajero  sobrevivio  claseDelBillete        edad  numHermanos  \\\n",
       "count  891.000000  891.000000       891.000000  714.000000   891.000000   \n",
       "mean   446.000000    0.383838         2.308642   29.699118     0.523008   \n",
       "std    257.353842    0.486592         0.836071   14.526497     1.102743   \n",
       "min      1.000000    0.000000         1.000000    0.420000     0.000000   \n",
       "25%    223.500000    0.000000         2.000000   20.125000     0.000000   \n",
       "50%    446.000000    0.000000         3.000000   28.000000     0.000000   \n",
       "75%    668.500000    1.000000         3.000000   38.000000     1.000000   \n",
       "max    891.000000    1.000000         3.000000   80.000000     8.000000   \n",
       "\n",
       "       numPadres/Hijos      tarifa  \n",
       "count       891.000000  891.000000  \n",
       "mean          0.381594   32.204208  \n",
       "std           0.806057   49.693429  \n",
       "min           0.000000    0.000000  \n",
       "25%           0.000000    7.910400  \n",
       "50%           0.000000   14.454200  \n",
       "75%           0.000000   31.000000  \n",
       "max           6.000000  512.329200  "
      ]
     },
     "execution_count": 12,
     "metadata": {},
     "output_type": "execute_result"
    }
   ],
   "source": [
    "# Descripción de los datos\n",
    "dataset.describe()"
   ]
  },
  {
   "cell_type": "markdown",
   "id": "24958272-cd28-49f4-b493-5e5d3457c1e7",
   "metadata": {},
   "source": [
    "### 2. Preprocesar los datos limpiándolos, tratando valores faltantes y transformándolos según sea necesario."
   ]
  },
  {
   "cell_type": "markdown",
   "id": "c4bfc685-b769-49f5-b358-d05f8a01fb8d",
   "metadata": {},
   "source": [
    "Hacemos el proceso de ETL para todos los datos, analizando mediante gráficas y realizando el debido proceso para cada caso"
   ]
  },
  {
   "cell_type": "code",
   "execution_count": 15,
   "id": "085d56b7-a3bb-457d-a75b-037713a109ac",
   "metadata": {},
   "outputs": [
    {
     "name": "stdout",
     "output_type": "stream",
     "text": [
      "Datos faltantes por columna:\n",
      " IdPasajero           0\n",
      "sobrevivio           0\n",
      "claseDelBillete      0\n",
      "nombre               0\n",
      "genero               0\n",
      "edad               177\n",
      "numHermanos          0\n",
      "numPadres/Hijos      0\n",
      "boleto               0\n",
      "tarifa               0\n",
      "cabina             687\n",
      "embarcamiento        2\n",
      "dtype: int64\n"
     ]
    }
   ],
   "source": [
    "#Identificación de Datos Faltantes y Atípicos\n",
    "\n",
    "# Verificar datos faltantes en cada columna\n",
    "missing_data = dataset.isnull().sum()\n",
    "print(\"Datos faltantes por columna:\\n\", missing_data)"
   ]
  },
  {
   "cell_type": "code",
   "execution_count": 16,
   "id": "c63aecad-b88a-4e5d-8b48-4dab27895e65",
   "metadata": {},
   "outputs": [],
   "source": [
    "#Para la columna de \"edad\" rellenaremos los datos faltantes por medio de un modelo predictivo\n",
    "from sklearn.impute import KNNImputer\n",
    "\n",
    "# Selección de columnas relevantes\n",
    "imputer = KNNImputer(n_neighbors=5)\n",
    "dataset[['edad', 'tarifa', 'numHermanos', 'numPadres/Hijos']] = imputer.fit_transform(\n",
    "    dataset[['edad', 'tarifa', 'numHermanos', 'numPadres/Hijos']]\n",
    ")"
   ]
  },
  {
   "cell_type": "code",
   "execution_count": 17,
   "id": "79d60f12-952b-4461-bf5b-7186cd065c3e",
   "metadata": {},
   "outputs": [],
   "source": [
    "#Para la columna \"embarcamiento\", eliminamoslas dos filas que no cuentan con la información\n",
    "dataset = dataset.dropna()"
   ]
  },
  {
   "cell_type": "code",
   "execution_count": 18,
   "id": "71879b3e-df06-49d7-a2cb-48123bd855d0",
   "metadata": {},
   "outputs": [],
   "source": [
    "#Para la columna de \"cabina\" utilizamos un modelo predictivo\n",
    "from sklearn.impute import KNNImputer\n",
    "\n",
    "# Codifica Deck como numérico antes de imputar\n",
    "dataset['Deck'] = dataset['cabina'].str[0]\n",
    "dataset['Deck'] = dataset['Deck'].map({'A': 1, 'B': 2, 'C': 3, 'D': 4, 'E': 5, 'F': 6, 'G': 7, 'T': 8, 'U': 0})\n",
    "imputer = KNNImputer(n_neighbors=5)\n",
    "dataset['Deck'] = imputer.fit_transform(dataset[['Deck', 'tarifa', 'claseDelBillete']])[:, 0]"
   ]
  },
  {
   "cell_type": "code",
   "execution_count": 19,
   "id": "98f36cff-5f41-47b7-a3a4-e16872478327",
   "metadata": {},
   "outputs": [
    {
     "name": "stdout",
     "output_type": "stream",
     "text": [
      "Datos faltantes por columna:\n",
      " IdPasajero         0\n",
      "sobrevivio         0\n",
      "claseDelBillete    0\n",
      "nombre             0\n",
      "genero             0\n",
      "edad               0\n",
      "numHermanos        0\n",
      "numPadres/Hijos    0\n",
      "boleto             0\n",
      "tarifa             0\n",
      "cabina             0\n",
      "embarcamiento      0\n",
      "Deck               0\n",
      "dtype: int64\n"
     ]
    }
   ],
   "source": [
    "# Revisamos que ya no hayan datos faltantes\n",
    "\n",
    "missing_data = dataset.isnull().sum()\n",
    "print(\"Datos faltantes por columna:\\n\", missing_data)"
   ]
  },
  {
   "cell_type": "code",
   "execution_count": 20,
   "id": "b132db35-67b7-4529-ba49-b2fb98640e64",
   "metadata": {},
   "outputs": [
    {
     "name": "stdout",
     "output_type": "stream",
     "text": [
      "Tipos de datos por columna:\n",
      "IdPasajero           int64\n",
      "sobrevivio           int64\n",
      "claseDelBillete      int64\n",
      "nombre              object\n",
      "genero              object\n",
      "edad               float64\n",
      "numHermanos        float64\n",
      "numPadres/Hijos    float64\n",
      "boleto              object\n",
      "tarifa             float64\n",
      "cabina              object\n",
      "embarcamiento       object\n",
      "Deck               float64\n",
      "dtype: object\n"
     ]
    }
   ],
   "source": [
    "# Verificamos el tipo de dato de cada columna\n",
    "print(\"Tipos de datos por columna:\")\n",
    "print(dataset.dtypes)"
   ]
  },
  {
   "cell_type": "code",
   "execution_count": 21,
   "id": "428aa15b-b345-451f-aaa0-f1937a372150",
   "metadata": {},
   "outputs": [
    {
     "name": "stdout",
     "output_type": "stream",
     "text": [
      "Columna: IdPasajero\n",
      "  Tipo de dato: int64\n",
      "  Valores únicos: 202\n",
      "  Valores faltantes: 0\n",
      "----------------------------------------\n",
      "Columna: sobrevivio\n",
      "  Tipo de dato: int64\n",
      "  Valores únicos: 2\n",
      "  Valores faltantes: 0\n",
      "----------------------------------------\n",
      "Columna: claseDelBillete\n",
      "  Tipo de dato: int64\n",
      "  Valores únicos: 3\n",
      "  Valores faltantes: 0\n",
      "----------------------------------------\n",
      "Columna: nombre\n",
      "  Tipo de dato: object\n",
      "  Valores únicos: 202\n",
      "  Valores faltantes: 0\n",
      "----------------------------------------\n",
      "Columna: genero\n",
      "  Tipo de dato: object\n",
      "  Valores únicos: 2\n",
      "  Valores faltantes: 0\n",
      "----------------------------------------\n",
      "Columna: edad\n",
      "  Tipo de dato: float64\n",
      "  Valores únicos: 78\n",
      "  Valores faltantes: 0\n",
      "----------------------------------------\n",
      "Columna: numHermanos\n",
      "  Tipo de dato: float64\n",
      "  Valores únicos: 4\n",
      "  Valores faltantes: 0\n",
      "----------------------------------------\n",
      "Columna: numPadres/Hijos\n",
      "  Tipo de dato: float64\n",
      "  Valores únicos: 4\n",
      "  Valores faltantes: 0\n",
      "----------------------------------------\n",
      "Columna: boleto\n",
      "  Tipo de dato: object\n",
      "  Valores únicos: 141\n",
      "  Valores faltantes: 0\n",
      "----------------------------------------\n",
      "Columna: tarifa\n",
      "  Tipo de dato: float64\n",
      "  Valores únicos: 99\n",
      "  Valores faltantes: 0\n",
      "----------------------------------------\n",
      "Columna: cabina\n",
      "  Tipo de dato: object\n",
      "  Valores únicos: 146\n",
      "  Valores faltantes: 0\n",
      "----------------------------------------\n",
      "Columna: embarcamiento\n",
      "  Tipo de dato: object\n",
      "  Valores únicos: 3\n",
      "  Valores faltantes: 0\n",
      "----------------------------------------\n",
      "Columna: Deck\n",
      "  Tipo de dato: float64\n",
      "  Valores únicos: 8\n",
      "  Valores faltantes: 0\n",
      "----------------------------------------\n"
     ]
    }
   ],
   "source": [
    "# Revisamos formato, valores únicos y valores faltantes\n",
    "for col in dataset.columns:\n",
    "    print(f\"Columna: {col}\")\n",
    "    print(f\"  Tipo de dato: {dataset[col].dtype}\")\n",
    "    print(f\"  Valores únicos: {dataset[col].nunique()}\")\n",
    "    print(f\"  Valores faltantes: {dataset[col].isnull().sum()}\")\n",
    "    print(\"-\" * 40)"
   ]
  },
  {
   "cell_type": "code",
   "execution_count": 22,
   "id": "ce0d430a-24fd-4fed-bf9e-02ad628094eb",
   "metadata": {},
   "outputs": [
    {
     "data": {
      "image/png": "[encoded data removed]",
      "text/plain": [
       "<Figure size 1200x800 with 1 Axes>"
      ]
     },
     "metadata": {},
     "output_type": "display_data"
    }
   ],
   "source": [
    "# Filtrar columnas específicas para revisar valores atípicos\n",
    "selected_columns = ['edad', 'tarifa', 'sobrevivio']  # Columnas de tipo int que sean relevantes para mirar valores atípicos\n",
    "plt.figure(figsize=(12, 8))\n",
    "dataset[selected_columns].boxplot()\n",
    "plt.title(\"Boxplot de columnas seleccionadas\")\n",
    "plt.xticks(rotation=45)\n",
    "plt.show()\n"
   ]
  },
  {
   "cell_type": "code",
   "execution_count": 23,
   "id": "50d6634a-ea8c-4df0-a67d-b3606bf70d61",
   "metadata": {},
   "outputs": [
    {
     "name": "stdout",
     "output_type": "stream",
     "text": [
      "El total de datos atípicos es 17\n"
     ]
    }
   ],
   "source": [
    "#Conteo de Datos Atípicos (tarifa)\n",
    "\n",
    "nivel_minimo=0\n",
    "nivel_maximo=200\n",
    "Total_Atipicos=((dataset['tarifa']<nivel_minimo)|(dataset['tarifa']>nivel_maximo)).sum()\n",
    "print(\"El total de datos atípicos es {}\".format(Total_Atipicos))"
   ]
  },
  {
   "cell_type": "code",
   "execution_count": 24,
   "id": "a2cb70e9-389e-46eb-9963-df3d7346ec9f",
   "metadata": {},
   "outputs": [],
   "source": [
    "# Con base en el análisis del boxplot, en la columna tarifa, empiezan a habaer valores atípicos por encima de los 200, entonces vamos a eliminar estos datos atípicos\n",
    "dataset=dataset[(dataset['tarifa']<nivel_maximo)&(dataset['tarifa']>nivel_minimo)]"
   ]
  },
  {
   "cell_type": "code",
   "execution_count": 25,
   "id": "d35d82a8-989e-4026-bcfd-25623a1e0600",
   "metadata": {},
   "outputs": [
    {
     "name": "stdout",
     "output_type": "stream",
     "text": [
      "El total de datos atípicos es 0\n"
     ]
    }
   ],
   "source": [
    "# Comprobamos si se eliminaron los datos atípicos\n",
    "Total_Atipicos=((dataset['tarifa']<nivel_minimo)|(dataset['tarifa']>nivel_maximo)).sum()\n",
    "print(\"El total de datos atípicos es {}\".format(Total_Atipicos))"
   ]
  },
  {
   "cell_type": "code",
   "execution_count": 26,
   "id": "b3687b52-feba-4a78-bb4c-eb63bdcf59e3",
   "metadata": {},
   "outputs": [
    {
     "data": {
      "image/png": "[encoded data removed]",
      "text/plain": [
       "<Figure size 1200x400 with 3 Axes>"
      ]
     },
     "metadata": {},
     "output_type": "display_data"
    }
   ],
   "source": [
    "# Gráficos de dispersión\n",
    "sns.pairplot(dataset, x_vars=['claseDelBillete', 'sobrevivio', 'genero'], y_vars='edad', height=4, aspect=1, kind='scatter')\n",
    "plt.show()"
   ]
  },
  {
   "cell_type": "markdown",
   "id": "b633ec71-3394-441a-b2bc-513320949421",
   "metadata": {},
   "source": [
    "### 3. Seleccionar las características más relevantes para entrenar el modelo utilizando selección de características."
   ]
  },
  {
   "cell_type": "markdown",
   "id": "b709c661-eab6-4ba4-bbb1-83a243505c15",
   "metadata": {},
   "source": [
    "Utilizamos datos relevantes para el aprendizaje del algoritmo"
   ]
  },
  {
   "cell_type": "code",
   "execution_count": 29,
   "id": "964dd7df-d0e5-40d1-a95c-18e3fe8bafbf",
   "metadata": {},
   "outputs": [],
   "source": [
    "# Codificar genero (0 = hombre y 1 = mujer)\n",
    "dataset['genero'] = dataset['genero'].map({'male': 0, 'female': 1})"
   ]
  },
  {
   "cell_type": "code",
   "execution_count": 30,
   "id": "0d3604a0-9106-4da5-86f5-afe90e94419c",
   "metadata": {},
   "outputs": [
    {
     "name": "stdout",
     "output_type": "stream",
     "text": [
      "sobrevivio         1.000000\n",
      "genero             0.515913\n",
      "tarifa             0.150246\n",
      "numHermanos        0.146926\n",
      "IdPasajero         0.096184\n",
      "numPadres/Hijos    0.079592\n",
      "Deck               0.018114\n",
      "claseDelBillete   -0.038479\n",
      "edad              -0.267274\n",
      "Name: sobrevivio, dtype: float64\n"
     ]
    }
   ],
   "source": [
    "#Revisamos la correlación entre las variables y la variable objetivo (sobrevivio)\n",
    "numeric_columns = dataset.select_dtypes(include=[np.number])\n",
    "correlation = numeric_columns.corr()\n",
    "print(correlation['sobrevivio'].sort_values(ascending=False))"
   ]
  },
  {
   "cell_type": "markdown",
   "id": "a5e50521-ba91-44a6-8c87-ec7bf2befa38",
   "metadata": {},
   "source": [
    "Con base en los resultados de la correlación entre la variable dependiente y variables independientes, trabajaremos con genero, tarifa y edad"
   ]
  },
  {
   "cell_type": "markdown",
   "id": "068bddd7-4a61-451b-b236-bc6873f204ce",
   "metadata": {},
   "source": [
    "### 4. Dividir el dataset en Train y Test para evaluar correctamente el modelo."
   ]
  },
  {
   "cell_type": "code",
   "execution_count": 33,
   "id": "38d28176-1990-4b91-b959-f28a6b582558",
   "metadata": {},
   "outputs": [],
   "source": [
    "#Seleccionamos las variables \n",
    "X = dataset[['genero', 'edad', 'tarifa']] #Variables independientes\n",
    "y = dataset['sobrevivio'] #Vvariable dependiente"
   ]
  },
  {
   "cell_type": "markdown",
   "id": "0b60824f-b700-4a2a-815d-d3ec16be9c49",
   "metadata": {},
   "source": [
    "### 5. Entrenar el modelo configurando los diferentes hiperparámetros."
   ]
  },
  {
   "cell_type": "markdown",
   "id": "9bec7e70-20eb-4286-bf37-9226b10b7c79",
   "metadata": {},
   "source": [
    "Realizamos el test y train del modelo"
   ]
  },
  {
   "cell_type": "code",
   "execution_count": 36,
   "id": "bb6653d3-41d5-422e-a7dd-9fe90a725284",
   "metadata": {},
   "outputs": [],
   "source": [
    "from sklearn.model_selection import train_test_split\n",
    "\n",
    "X_train, X_test, y_train, y_test = train_test_split(X, y, test_size=0.2, random_state=42)"
   ]
  },
  {
   "cell_type": "code",
   "execution_count": 37,
   "id": "e8e9e563-72a8-4315-ba6d-9ed2661bb06e",
   "metadata": {},
   "outputs": [
    {
     "data": {
      "text/html": [
       "<style>#sk-container-id-1 {\n",
       "  /* Definition of color scheme common for light and dark mode */\n",
       "  --sklearn-color-text: black;\n",
       "  --sklearn-color-line: gray;\n",
       "  /* Definition of color scheme for unfitted estimators */\n",
       "  --sklearn-color-unfitted-level-0: #fff5e6;\n",
       "  --sklearn-color-unfitted-level-1: #f6e4d2;\n",
       "  --sklearn-color-unfitted-level-2: #ffe0b3;\n",
       "  --sklearn-color-unfitted-level-3: chocolate;\n",
       "  /* Definition of color scheme for fitted estimators */\n",
       "  --sklearn-color-fitted-level-0: #f0f8ff;\n",
       "  --sklearn-color-fitted-level-1: #d4ebff;\n",
       "  --sklearn-color-fitted-level-2: #b3dbfd;\n",
       "  --sklearn-color-fitted-level-3: cornflowerblue;\n",
       "\n",
       "  /* Specific color for light theme */\n",
       "  --sklearn-color-text-on-default-background: var(--sg-text-color, var(--theme-code-foreground, var(--jp-content-font-color1, black)));\n",
       "  --sklearn-color-background: var(--sg-background-color, var(--theme-background, var(--jp-layout-color0, white)));\n",
       "  --sklearn-color-border-box: var(--sg-text-color, var(--theme-code-foreground, var(--jp-content-font-color1, black)));\n",
       "  --sklearn-color-icon: #696969;\n",
       "\n",
       "  @media (prefers-color-scheme: dark) {\n",
       "    /* Redefinition of color scheme for dark theme */\n",
       "    --sklearn-color-text-on-default-background: var(--sg-text-color, var(--theme-code-foreground, var(--jp-content-font-color1, white)));\n",
       "    --sklearn-color-background: var(--sg-background-color, var(--theme-background, var(--jp-layout-color0, #111)));\n",
       "    --sklearn-color-border-box: var(--sg-text-color, var(--theme-code-foreground, var(--jp-content-font-color1, white)));\n",
       "    --sklearn-color-icon: #878787;\n",
       "  }\n",
       "}\n",
       "\n",
       "#sk-container-id-1 {\n",
       "  color: var(--sklearn-color-text);\n",
       "}\n",
       "\n",
       "#sk-container-id-1 pre {\n",
       "  padding: 0;\n",
       "}\n",
       "\n",
       "#sk-container-id-1 input.sk-hidden--visually {\n",
       "  border: 0;\n",
       "  clip: rect(1px 1px 1px 1px);\n",
       "  clip: rect(1px, 1px, 1px, 1px);\n",
       "  height: 1px;\n",
       "  margin: -1px;\n",
       "  overflow: hidden;\n",
       "  padding: 0;\n",
       "  position: absolute;\n",
       "  width: 1px;\n",
       "}\n",
       "\n",
       "#sk-container-id-1 div.sk-dashed-wrapped {\n",
       "  border: 1px dashed var(--sklearn-color-line);\n",
       "  margin: 0 0.4em 0.5em 0.4em;\n",
       "  box-sizing: border-box;\n",
       "  padding-bottom: 0.4em;\n",
       "  background-color: var(--sklearn-color-background);\n",
       "}\n",
       "\n",
       "#sk-container-id-1 div.sk-container {\n",
       "  /* jupyter's `normalize.less` sets `[hidden] { display: none; }`\n",
       "     but bootstrap.min.css set `[hidden] { display: none !important; }`\n",
       "     so we also need the `!important` here to be able to override the\n",
       "     default hidden behavior on the sphinx rendered scikit-learn.org.\n",
       "     See: https://github.com/scikit-learn/scikit-learn/issues/21755 */\n",
       "  display: inline-block !important;\n",
       "  position: relative;\n",
       "}\n",
       "\n",
       "#sk-container-id-1 div.sk-text-repr-fallback {\n",
       "  display: none;\n",
       "}\n",
       "\n",
       "div.sk-parallel-item,\n",
       "div.sk-serial,\n",
       "div.sk-item {\n",
       "  /* draw centered vertical line to link estimators */\n",
       "  background-image: linear-gradient(var(--sklearn-color-text-on-default-background), var(--sklearn-color-text-on-default-background));\n",
       "  background-size: 2px 100%;\n",
       "  background-repeat: no-repeat;\n",
       "  background-position: center center;\n",
       "}\n",
       "\n",
       "/* Parallel-specific style estimator block */\n",
       "\n",
       "#sk-container-id-1 div.sk-parallel-item::after {\n",
       "  content: \"\";\n",
       "  width: 100%;\n",
       "  border-bottom: 2px solid var(--sklearn-color-text-on-default-background);\n",
       "  flex-grow: 1;\n",
       "}\n",
       "\n",
       "#sk-container-id-1 div.sk-parallel {\n",
       "  display: flex;\n",
       "  align-items: stretch;\n",
       "  justify-content: center;\n",
       "  background-color: var(--sklearn-color-background);\n",
       "  position: relative;\n",
       "}\n",
       "\n",
       "#sk-container-id-1 div.sk-parallel-item {\n",
       "  display: flex;\n",
       "  flex-direction: column;\n",
       "}\n",
       "\n",
       "#sk-container-id-1 div.sk-parallel-item:first-child::after {\n",
       "  align-self: flex-end;\n",
       "  width: 50%;\n",
       "}\n",
       "\n",
       "#sk-container-id-1 div.sk-parallel-item:last-child::after {\n",
       "  align-self: flex-start;\n",
       "  width: 50%;\n",
       "}\n",
       "\n",
       "#sk-container-id-1 div.sk-parallel-item:only-child::after {\n",
       "  width: 0;\n",
       "}\n",
       "\n",
       "/* Serial-specific style estimator block */\n",
       "\n",
       "#sk-container-id-1 div.sk-serial {\n",
       "  display: flex;\n",
       "  flex-direction: column;\n",
       "  align-items: center;\n",
       "  background-color: var(--sklearn-color-background);\n",
       "  padding-right: 1em;\n",
       "  padding-left: 1em;\n",
       "}\n",
       "\n",
       "\n",
       "/* Toggleable style: style used for estimator/Pipeline/ColumnTransformer box that is\n",
       "clickable and can be expanded/collapsed.\n",
       "- Pipeline and ColumnTransformer use this feature and define the default style\n",
       "- Estimators will overwrite some part of the style using the `sk-estimator` class\n",
       "*/\n",
       "\n",
       "/* Pipeline and ColumnTransformer style (default) */\n",
       "\n",
       "#sk-container-id-1 div.sk-toggleable {\n",
       "  /* Default theme specific background. It is overwritten whether we have a\n",
       "  specific estimator or a Pipeline/ColumnTransformer */\n",
       "  background-color: var(--sklearn-color-background);\n",
       "}\n",
       "\n",
       "/* Toggleable label */\n",
       "#sk-container-id-1 label.sk-toggleable__label {\n",
       "  cursor: pointer;\n",
       "  display: block;\n",
       "  width: 100%;\n",
       "  margin-bottom: 0;\n",
       "  padding: 0.5em;\n",
       "  box-sizing: border-box;\n",
       "  text-align: center;\n",
       "}\n",
       "\n",
       "#sk-container-id-1 label.sk-toggleable__label-arrow:before {\n",
       "  /* Arrow on the left of the label */\n",
       "  content: \"▸\";\n",
       "  float: left;\n",
       "  margin-right: 0.25em;\n",
       "  color: var(--sklearn-color-icon);\n",
       "}\n",
       "\n",
       "#sk-container-id-1 label.sk-toggleable__label-arrow:hover:before {\n",
       "  color: var(--sklearn-color-text);\n",
       "}\n",
       "\n",
       "/* Toggleable content - dropdown */\n",
       "\n",
       "#sk-container-id-1 div.sk-toggleable__content {\n",
       "  max-height: 0;\n",
       "  max-width: 0;\n",
       "  overflow: hidden;\n",
       "  text-align: left;\n",
       "  /* unfitted */\n",
       "  background-color: var(--sklearn-color-unfitted-level-0);\n",
       "}\n",
       "\n",
       "#sk-container-id-1 div.sk-toggleable__content.fitted {\n",
       "  /* fitted */\n",
       "  background-color: var(--sklearn-color-fitted-level-0);\n",
       "}\n",
       "\n",
       "#sk-container-id-1 div.sk-toggleable__content pre {\n",
       "  margin: 0.2em;\n",
       "  border-radius: 0.25em;\n",
       "  color: var(--sklearn-color-text);\n",
       "  /* unfitted */\n",
       "  background-color: var(--sklearn-color-unfitted-level-0);\n",
       "}\n",
       "\n",
       "#sk-container-id-1 div.sk-toggleable__content.fitted pre {\n",
       "  /* unfitted */\n",
       "  background-color: var(--sklearn-color-fitted-level-0);\n",
       "}\n",
       "\n",
       "#sk-container-id-1 input.sk-toggleable__control:checked~div.sk-toggleable__content {\n",
       "  /* Expand drop-down */\n",
       "  max-height: 200px;\n",
       "  max-width: 100%;\n",
       "  overflow: auto;\n",
       "}\n",
       "\n",
       "#sk-container-id-1 input.sk-toggleable__control:checked~label.sk-toggleable__label-arrow:before {\n",
       "  content: \"▾\";\n",
       "}\n",
       "\n",
       "/* Pipeline/ColumnTransformer-specific style */\n",
       "\n",
       "#sk-container-id-1 div.sk-label input.sk-toggleable__control:checked~label.sk-toggleable__label {\n",
       "  color: var(--sklearn-color-text);\n",
       "  background-color: var(--sklearn-color-unfitted-level-2);\n",
       "}\n",
       "\n",
       "#sk-container-id-1 div.sk-label.fitted input.sk-toggleable__control:checked~label.sk-toggleable__label {\n",
       "  background-color: var(--sklearn-color-fitted-level-2);\n",
       "}\n",
       "\n",
       "/* Estimator-specific style */\n",
       "\n",
       "/* Colorize estimator box */\n",
       "#sk-container-id-1 div.sk-estimator input.sk-toggleable__control:checked~label.sk-toggleable__label {\n",
       "  /* unfitted */\n",
       "  background-color: var(--sklearn-color-unfitted-level-2);\n",
       "}\n",
       "\n",
       "#sk-container-id-1 div.sk-estimator.fitted input.sk-toggleable__control:checked~label.sk-toggleable__label {\n",
       "  /* fitted */\n",
       "  background-color: var(--sklearn-color-fitted-level-2);\n",
       "}\n",
       "\n",
       "#sk-container-id-1 div.sk-label label.sk-toggleable__label,\n",
       "#sk-container-id-1 div.sk-label label {\n",
       "  /* The background is the default theme color */\n",
       "  color: var(--sklearn-color-text-on-default-background);\n",
       "}\n",
       "\n",
       "/* On hover, darken the color of the background */\n",
       "#sk-container-id-1 div.sk-label:hover label.sk-toggleable__label {\n",
       "  color: var(--sklearn-color-text);\n",
       "  background-color: var(--sklearn-color-unfitted-level-2);\n",
       "}\n",
       "\n",
       "/* Label box, darken color on hover, fitted */\n",
       "#sk-container-id-1 div.sk-label.fitted:hover label.sk-toggleable__label.fitted {\n",
       "  color: var(--sklearn-color-text);\n",
       "  background-color: var(--sklearn-color-fitted-level-2);\n",
       "}\n",
       "\n",
       "/* Estimator label */\n",
       "\n",
       "#sk-container-id-1 div.sk-label label {\n",
       "  font-family: monospace;\n",
       "  font-weight: bold;\n",
       "  display: inline-block;\n",
       "  line-height: 1.2em;\n",
       "}\n",
       "\n",
       "#sk-container-id-1 div.sk-label-container {\n",
       "  text-align: center;\n",
       "}\n",
       "\n",
       "/* Estimator-specific */\n",
       "#sk-container-id-1 div.sk-estimator {\n",
       "  font-family: monospace;\n",
       "  border: 1px dotted var(--sklearn-color-border-box);\n",
       "  border-radius: 0.25em;\n",
       "  box-sizing: border-box;\n",
       "  margin-bottom: 0.5em;\n",
       "  /* unfitted */\n",
       "  background-color: var(--sklearn-color-unfitted-level-0);\n",
       "}\n",
       "\n",
       "#sk-container-id-1 div.sk-estimator.fitted {\n",
       "  /* fitted */\n",
       "  background-color: var(--sklearn-color-fitted-level-0);\n",
       "}\n",
       "\n",
       "/* on hover */\n",
       "#sk-container-id-1 div.sk-estimator:hover {\n",
       "  /* unfitted */\n",
       "  background-color: var(--sklearn-color-unfitted-level-2);\n",
       "}\n",
       "\n",
       "#sk-container-id-1 div.sk-estimator.fitted:hover {\n",
       "  /* fitted */\n",
       "  background-color: var(--sklearn-color-fitted-level-2);\n",
       "}\n",
       "\n",
       "/* Specification for estimator info (e.g. \"i\" and \"?\") */\n",
       "\n",
       "/* Common style for \"i\" and \"?\" */\n",
       "\n",
       ".sk-estimator-doc-link,\n",
       "a:link.sk-estimator-doc-link,\n",
       "a:visited.sk-estimator-doc-link {\n",
       "  float: right;\n",
       "  font-size: smaller;\n",
       "  line-height: 1em;\n",
       "  font-family: monospace;\n",
       "  background-color: var(--sklearn-color-background);\n",
       "  border-radius: 1em;\n",
       "  height: 1em;\n",
       "  width: 1em;\n",
       "  text-decoration: none !important;\n",
       "  margin-left: 1ex;\n",
       "  /* unfitted */\n",
       "  border: var(--sklearn-color-unfitted-level-1) 1pt solid;\n",
       "  color: var(--sklearn-color-unfitted-level-1);\n",
       "}\n",
       "\n",
       ".sk-estimator-doc-link.fitted,\n",
       "a:link.sk-estimator-doc-link.fitted,\n",
       "a:visited.sk-estimator-doc-link.fitted {\n",
       "  /* fitted */\n",
       "  border: var(--sklearn-color-fitted-level-1) 1pt solid;\n",
       "  color: var(--sklearn-color-fitted-level-1);\n",
       "}\n",
       "\n",
       "/* On hover */\n",
       "div.sk-estimator:hover .sk-estimator-doc-link:hover,\n",
       ".sk-estimator-doc-link:hover,\n",
       "div.sk-label-container:hover .sk-estimator-doc-link:hover,\n",
       ".sk-estimator-doc-link:hover {\n",
       "  /* unfitted */\n",
       "  background-color: var(--sklearn-color-unfitted-level-3);\n",
       "  color: var(--sklearn-color-background);\n",
       "  text-decoration: none;\n",
       "}\n",
       "\n",
       "div.sk-estimator.fitted:hover .sk-estimator-doc-link.fitted:hover,\n",
       ".sk-estimator-doc-link.fitted:hover,\n",
       "div.sk-label-container:hover .sk-estimator-doc-link.fitted:hover,\n",
       ".sk-estimator-doc-link.fitted:hover {\n",
       "  /* fitted */\n",
       "  background-color: var(--sklearn-color-fitted-level-3);\n",
       "  color: var(--sklearn-color-background);\n",
       "  text-decoration: none;\n",
       "}\n",
       "\n",
       "/* Span, style for the box shown on hovering the info icon */\n",
       ".sk-estimator-doc-link span {\n",
       "  display: none;\n",
       "  z-index: 9999;\n",
       "  position: relative;\n",
       "  font-weight: normal;\n",
       "  right: .2ex;\n",
       "  padding: .5ex;\n",
       "  margin: .5ex;\n",
       "  width: min-content;\n",
       "  min-width: 20ex;\n",
       "  max-width: 50ex;\n",
       "  color: var(--sklearn-color-text);\n",
       "  box-shadow: 2pt 2pt 4pt #999;\n",
       "  /* unfitted */\n",
       "  background: var(--sklearn-color-unfitted-level-0);\n",
       "  border: .5pt solid var(--sklearn-color-unfitted-level-3);\n",
       "}\n",
       "\n",
       ".sk-estimator-doc-link.fitted span {\n",
       "  /* fitted */\n",
       "  background: var(--sklearn-color-fitted-level-0);\n",
       "  border: var(--sklearn-color-fitted-level-3);\n",
       "}\n",
       "\n",
       ".sk-estimator-doc-link:hover span {\n",
       "  display: block;\n",
       "}\n",
       "\n",
       "/* \"?\"-specific style due to the `<a>` HTML tag */\n",
       "\n",
       "#sk-container-id-1 a.estimator_doc_link {\n",
       "  float: right;\n",
       "  font-size: 1rem;\n",
       "  line-height: 1em;\n",
       "  font-family: monospace;\n",
       "  background-color: var(--sklearn-color-background);\n",
       "  border-radius: 1rem;\n",
       "  height: 1rem;\n",
       "  width: 1rem;\n",
       "  text-decoration: none;\n",
       "  /* unfitted */\n",
       "  color: var(--sklearn-color-unfitted-level-1);\n",
       "  border: var(--sklearn-color-unfitted-level-1) 1pt solid;\n",
       "}\n",
       "\n",
       "#sk-container-id-1 a.estimator_doc_link.fitted {\n",
       "  /* fitted */\n",
       "  border: var(--sklearn-color-fitted-level-1) 1pt solid;\n",
       "  color: var(--sklearn-color-fitted-level-1);\n",
       "}\n",
       "\n",
       "/* On hover */\n",
       "#sk-container-id-1 a.estimator_doc_link:hover {\n",
       "  /* unfitted */\n",
       "  background-color: var(--sklearn-color-unfitted-level-3);\n",
       "  color: var(--sklearn-color-background);\n",
       "  text-decoration: none;\n",
       "}\n",
       "\n",
       "#sk-container-id-1 a.estimator_doc_link.fitted:hover {\n",
       "  /* fitted */\n",
       "  background-color: var(--sklearn-color-fitted-level-3);\n",
       "}\n",
       "</style><div id=\"sk-container-id-1\" class=\"sk-top-container\"><div class=\"sk-text-repr-fallback\"><pre>LinearRegression()</pre><b>In a Jupyter environment, please rerun this cell to show the HTML representation or trust the notebook. <br />On GitHub, the HTML representation is unable to render, please try loading this page with nbviewer.org.</b></div><div class=\"sk-container\" hidden><div class=\"sk-item\"><div class=\"sk-estimator fitted sk-toggleable\"><input class=\"sk-toggleable__control sk-hidden--visually\" id=\"sk-estimator-id-1\" type=\"checkbox\" checked><label for=\"sk-estimator-id-1\" class=\"sk-toggleable__label fitted sk-toggleable__label-arrow fitted\">&nbsp;&nbsp;LinearRegression<a class=\"sk-estimator-doc-link fitted\" rel=\"noreferrer\" target=\"_blank\" href=\"https://scikit-learn.org/1.4/modules/generated/sklearn.linear_model.LinearRegression.html\">?<span>Documentation for LinearRegression</span></a><span class=\"sk-estimator-doc-link fitted\">i<span>Fitted</span></span></label><div class=\"sk-toggleable__content fitted\"><pre>LinearRegression()</pre></div> </div></div></div></div>"
      ],
      "text/plain": [
       "LinearRegression()"
      ]
     },
     "execution_count": 37,
     "metadata": {},
     "output_type": "execute_result"
    }
   ],
   "source": [
    "from sklearn.linear_model import LinearRegression\n",
    "\n",
    "# Crear el modelo\n",
    "modelo = LinearRegression()\n",
    "\n",
    "# Ajustar el modelo\n",
    "modelo.fit(X_train, y_train)"
   ]
  },
  {
   "cell_type": "markdown",
   "id": "de056af2-e3e6-4b19-a297-343ca95cbc76",
   "metadata": {},
   "source": [
    "### 6. Evaluar el desempeño del modelo en el conjunto de Test con métricas como precisión, recall, F1-score, etc."
   ]
  },
  {
   "cell_type": "code",
   "execution_count": 39,
   "id": "0d3f9993-1f78-4ba8-b154-5ad7234dddcc",
   "metadata": {},
   "outputs": [
    {
     "name": "stdout",
     "output_type": "stream",
     "text": [
      "Error cuadrático medio: 0.19097794485513264\n",
      "R²: 0.20773088937370732\n"
     ]
    }
   ],
   "source": [
    "from sklearn.metrics import mean_squared_error, r2_score\n",
    "\n",
    "# Realizar predicciones\n",
    "predicciones = modelo.predict(X_test)\n",
    "\n",
    "# Evaluar el modelo\n",
    "mse = mean_squared_error(y_test, predicciones)\n",
    "r2 = r2_score(y_test, predicciones)\n",
    "\n",
    "print(f\"Error cuadrático medio: {mse}\")\n",
    "print(f\"R²: {r2}\")"
   ]
  },
  {
   "cell_type": "code",
   "execution_count": 40,
   "id": "85825012-ace6-4964-998d-d843d90e6224",
   "metadata": {},
   "outputs": [
    {
     "name": "stdout",
     "output_type": "stream",
     "text": [
      "Tamaño de X_train: (145, 3)\n",
      "Tamaño de X_test: (37, 3)\n",
      "Tamaño de y_train: (145,)\n",
      "Tamaño de y_test: (37,)\n"
     ]
    }
   ],
   "source": [
    "print(f\"Tamaño de X_train: {X_train.shape}\")\n",
    "print(f\"Tamaño de X_test: {X_test.shape}\")\n",
    "print(f\"Tamaño de y_train: {y_train.shape}\")\n",
    "print(f\"Tamaño de y_test: {y_test.shape}\")"
   ]
  },
  {
   "cell_type": "markdown",
   "id": "f43bbd20-4f94-47f3-a0bf-4b74d5728bda",
   "metadata": {},
   "source": [
    "### 7. Realizar las diferentes gráficas que permitan visualizar los resultados del modelo."
   ]
  },
  {
   "cell_type": "markdown",
   "id": "62162b8e-af6f-40f4-b558-4bc6faddea3e",
   "metadata": {},
   "source": [
    "Matriz de confusión\n",
    "útil ver cuántos valores fueron correctamente clasificados y cuántos no"
   ]
  },
  {
   "cell_type": "code",
   "execution_count": 43,
   "id": "fd7a694a-5eb6-4e8b-9a9d-411d5a9fb411",
   "metadata": {},
   "outputs": [
    {
     "data": {
      "image/png": "[encoded data removed]",
      "text/plain": [
       "<Figure size 640x480 with 2 Axes>"
      ]
     },
     "metadata": {},
     "output_type": "display_data"
    }
   ],
   "source": [
    "from sklearn.metrics import confusion_matrix, ConfusionMatrixDisplay\n",
    "\n",
    "# Calcular matriz de confusión\n",
    "cm = confusion_matrix(y_test, predicciones.round())  # Redondea predicciones a 0 o 1\n",
    "disp = ConfusionMatrixDisplay(confusion_matrix=cm, display_labels=['No sobrevivió', 'Sobrevivió'])\n",
    "disp.plot(cmap='Blues')\n",
    "plt.title('Matriz de confusión')\n",
    "plt.show()"
   ]
  },
  {
   "cell_type": "markdown",
   "id": "e1bcfb12-3012-44d3-8893-d45f63a18aaf",
   "metadata": {},
   "source": [
    "Linea de regresión"
   ]
  },
  {
   "cell_type": "code",
   "execution_count": 44,
   "id": "c3c1e181-105a-46c2-b001-2aedce7bda7f",
   "metadata": {},
   "outputs": [
    {
     "data": {
      "image/png": "[encoded data removed]",
      "text/plain": [
       "<Figure size 1000x600 with 1 Axes>"
      ]
     },
     "metadata": {},
     "output_type": "display_data"
    }
   ],
   "source": [
    "# Graficar la línea de regresión\n",
    "plt.figure(figsize=(10, 6))\n",
    "plt.plot(y_test.values, label='Sobrevivientes Reales', color='blue')\n",
    "plt.plot(predicciones, label='Sobrevivientes Predichos', color='red')\n",
    "plt.title('Sobrevivientes Reales vs Sobrevivientes Predichos')\n",
    "plt.legend()\n",
    "plt.show()"
   ]
  },
  {
   "cell_type": "code",
   "execution_count": 93,
   "id": "d6b3b0a9-b422-488f-b989-0bf2582196f4",
   "metadata": {},
   "outputs": [
    {
     "name": "stdout",
     "output_type": "stream",
     "text": [
      "Precisión: 0.70\n"
     ]
    }
   ],
   "source": [
    "from sklearn.metrics import confusion_matrix, accuracy_score\n",
    "\n",
    "# Evaluar el modelo\n",
    "accuracy = accuracy_score(y_test, y_pred_class)\n",
    "conf_matrix = confusion_matrix(y_test, y_pred_class)\n",
    "\n",
    "print(f\"Precisión: {accuracy:.2f}\")\n"
   ]
  },
  {
   "cell_type": "code",
   "execution_count": 111,
   "id": "f696ea3a-3664-4797-bc65-72f87f1e6a9f",
   "metadata": {},
   "outputs": [
    {
     "name": "stdout",
     "output_type": "stream",
     "text": [
      "   genero  edad  tarifa  Predicción continua  ¿Sobrevivió?\n",
      "0       1    22      50             1.000554             1\n",
      "1       0    35      70             0.487682             0\n",
      "2       0    40      20             0.434039             0\n"
     ]
    }
   ],
   "source": [
    "# Varios pasajeros\n",
    "nuevos_pasajeros = pd.DataFrame({\n",
    "    'genero': [1, 0, 0],  # Género: 1 = mujer, 0 = hombre\n",
    "    'edad': [22, 35, 40], # Edad\n",
    "    'tarifa': [50, 70, 20] # Tarifa del boleto\n",
    "})\n",
    "\n",
    "# Predicción continua\n",
    "predicciones_continuas = modelo.predict(nuevos_pasajeros)\n",
    "\n",
    "# Convertir a 0 o 1\n",
    "predicciones_clase = (predicciones_continuas >= 0.5).astype(int)\n",
    "\n",
    "# Mostrar resultados\n",
    "nuevos_pasajeros['Predicción continua'] = predicciones_continuas\n",
    "nuevos_pasajeros['¿Sobrevivió?'] = predicciones_clase\n",
    "\n",
    "print(nuevos_pasajeros)\n"
   ]
  },
  {
   "cell_type": "markdown",
   "id": "12d7fc9d-a000-4b61-af41-f237d2e9812c",
   "metadata": {},
   "source": [
    "### 8. Interpretar, analizar y documentar los resultados obtenidos"
   ]
  },
  {
   "cell_type": "markdown",
   "id": "c77ab15a-5f44-4dea-a9cd-9cfa2169b5ae",
   "metadata": {},
   "source": [
    "    Rendimiento del modelo: \n",
    "\n",
    "Error cuadrático medio: 0.1909: La diferencia al cuadrado entre las predicciones y los valores reales es relativamente pequeña.El modelo tiene un error moderado al predecir valores continuos, pero recordemos que esto no es ideal para un problema de clasificación como lo es en este caso.\n",
    "\n",
    "R²: 0.2077: El modelo explica el 20.7% de la variabilidad en predecir si sobrevive una personao no. Esto sugiere que predecir si sobrevivie depende también de otros factores.\n",
    "\n",
    "Precisión: 0.70: El modelo desarrolló un rendimiento de predicción en un 70%, lo cual es aceptable, especialmente porque se trabajan con multiples variables\r\n"
   ]
  },
  {
   "cell_type": "markdown",
   "id": "1c762ed7-e998-4f26-acc2-f6d5219f029c",
   "metadata": {},
   "source": [
    "    Predicciones:\n",
    "    \n",
    "Pasajero 0 (mujer, 20 años, tarifa moderada): La predicción continua es 1.000554, muy por encima del umbral de 0.5, lo que clasifica al pasajero como sobreviviente (1).\n",
    "Es coherente con las estadísticas del Titanic, ya que las mujeres jóvenes tenían una alta probabilidad de sobrevivir debido a las políticas de \"mujeres y niños primero\"\n",
    "\n",
    "Pasajero 1 (hombre, 35 años, tarifa alta): La predicción continua es 0.487682, justo por debajo del umbral de 0.5, clasificándolo como no sobreviviente (0).\n",
    "Aunque pagó una tarifa alta (posible clase alta), el modelo identifica al género masculino como un factor negativo para la supervivencia.\n",
    "\n",
    "Pasajero 2 (hombre, 40 años, tarifa baja): La predicción continua es 0.434039, por debajo del umbral de 0.5, clasificándolo como no sobreviviente (0).\n",
    "El género masculino y la tarifa baja (probablemente de clase económica) reducen significativamente las probabilidades de supervivencia."
   ]
  },
  {
   "cell_type": "markdown",
   "id": "6c4ff239-887b-475b-b684-a2b8d8b89957",
   "metadata": {},
   "source": [
    "    Graficos:\n",
    "1. Boxplot: Permitió la visualización de valores atípicos en cada columna\n",
    "2. Gráfico de dispersión entre variables (genero, sobrevivio, clase del tiquete X edad): Luego de realizar el proceso ETL, revisamos para cada columna que siga habiendo relación entre las variables y que los datos atípicos se hayan suprimido\n",
    "3. Matriz de confusión: Nos muestra un modelo aceptable, teniendo un FP(false positive) y FN(false negative) cercanos a 0\n",
    "4. Linea de regresión del modelo de aprendizaje: Evidencia la capacidad de análisis y aprendizaje que ha generado el modelo con base en el algoritmo proporcionado, en este caso la linea de sobrevivientes predichos sigue mayormente la linea de sobrevivientes reales"
   ]
  }
 ],
 "metadata": {
  "kernelspec": {
   "display_name": "Python 3 (ipykernel)",
   "language": "python",
   "name": "python3"
  },
  "language_info": {
   "codemirror_mode": {
    "name": "ipython",
    "version": 3
   },
   "file_extension": ".py",
   "mimetype": "text/x-python",
   "name": "python",
   "nbconvert_exporter": "python",
   "pygments_lexer": "ipython3",
   "version": "3.12.4"
  }
 },
 "nbformat": 4,
 "nbformat_minor": 5
}
